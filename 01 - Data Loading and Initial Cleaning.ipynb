{
 "cells": [
  {
   "cell_type": "markdown",
   "id": "c2e69a62-7bef-4bb5-bbf7-1410de0974fe",
   "metadata": {},
   "source": [
    "# Notebook 1: Data Loading and Initial Cleaning"
   ]
  },
  {
   "cell_type": "code",
   "execution_count": 2,
   "id": "d9d5056b-19d8-4406-b6cd-933e0f538790",
   "metadata": {
    "scrolled": true
   },
   "outputs": [],
   "source": [
    "import pandas as pd\n",
    "import numpy as np\n",
    "from nfl_data_py import import_pbp_data\n",
    "import seaborn as sns\n",
    "import matplotlib.pyplot as plt\n",
    "\n",
    "year_list = []\n",
    "\n",
    "for i in range(1999, 2025):\n",
    "    year_list.append(i)\n",
    "    \n",
    "# df = import_pbp_data(year_list)\n",
    "df = pd.read_csv('nfl_data_1999_2024.csv', low_memory = False)\n",
    "\n",
    "pd.set_option('display.max_colwidth', None)"
   ]
  },
  {
   "cell_type": "markdown",
   "id": "ab46c303-2592-40b0-b004-3d22649f8c23",
   "metadata": {},
   "source": [
    "## Data Overview\n",
    "\n",
    "- Source: `nfl_data_py` play-by-play dataset (1999-2024)\n",
    "- Granularity: One row per play (~1.2 million rows, 393 columns)\n",
    "- Key fields: `game_id`, `posteam`, `yardline_100`, `qtr`, `down`, `ydstogo`, `game_seconds_remaining`, `score_differential`, `vegas_home_wp`\n",
    "\n",
    "The dataset's granularity enables real-time win probability modeling, as each row represents a decision point before the ball is snapped.\n",
    "\n",
    "Note: Games prior to 2003 were excluded due to invalid score data. This filtering ensures training labels are accurate and consistent. Overtime plays were also excluded due to invalid target values."
   ]
  },
  {
   "cell_type": "markdown",
   "id": "14f2ce67-1ae1-45ca-bba9-374b290d9b71",
   "metadata": {},
   "source": [
    "## Initial Cleaning"
   ]
  },
  {
   "cell_type": "code",
   "execution_count": 3,
   "id": "584ea0b5-0c81-4216-98b4-407345da0a95",
   "metadata": {},
   "outputs": [
    {
     "data": {
      "text/html": [
       "<div>\n",
       "<style scoped>\n",
       "    .dataframe tbody tr th:only-of-type {\n",
       "        vertical-align: middle;\n",
       "    }\n",
       "\n",
       "    .dataframe tbody tr th {\n",
       "        vertical-align: top;\n",
       "    }\n",
       "\n",
       "    .dataframe thead th {\n",
       "        text-align: right;\n",
       "    }\n",
       "</style>\n",
       "<table border=\"1\" class=\"dataframe\">\n",
       "  <thead>\n",
       "    <tr style=\"text-align: right;\">\n",
       "      <th></th>\n",
       "      <th>Unnamed: 0</th>\n",
       "      <th>play_id</th>\n",
       "      <th>game_id</th>\n",
       "      <th>old_game_id</th>\n",
       "      <th>home_team</th>\n",
       "      <th>away_team</th>\n",
       "      <th>season_type</th>\n",
       "      <th>week</th>\n",
       "      <th>posteam</th>\n",
       "      <th>posteam_type</th>\n",
       "      <th>...</th>\n",
       "      <th>offense_players</th>\n",
       "      <th>defense_players</th>\n",
       "      <th>n_offense</th>\n",
       "      <th>n_defense</th>\n",
       "      <th>ngs_air_yards</th>\n",
       "      <th>time_to_throw</th>\n",
       "      <th>was_pressure</th>\n",
       "      <th>route</th>\n",
       "      <th>defense_man_zone_type</th>\n",
       "      <th>defense_coverage_type</th>\n",
       "    </tr>\n",
       "  </thead>\n",
       "  <tbody>\n",
       "    <tr>\n",
       "      <th>0</th>\n",
       "      <td>0</td>\n",
       "      <td>35.0</td>\n",
       "      <td>1999_01_ARI_PHI</td>\n",
       "      <td>1.999091e+09</td>\n",
       "      <td>PHI</td>\n",
       "      <td>ARI</td>\n",
       "      <td>REG</td>\n",
       "      <td>1</td>\n",
       "      <td>PHI</td>\n",
       "      <td>home</td>\n",
       "      <td>...</td>\n",
       "      <td>NaN</td>\n",
       "      <td>NaN</td>\n",
       "      <td>NaN</td>\n",
       "      <td>NaN</td>\n",
       "      <td>NaN</td>\n",
       "      <td>NaN</td>\n",
       "      <td>NaN</td>\n",
       "      <td>NaN</td>\n",
       "      <td>NaN</td>\n",
       "      <td>NaN</td>\n",
       "    </tr>\n",
       "    <tr>\n",
       "      <th>1</th>\n",
       "      <td>1</td>\n",
       "      <td>60.0</td>\n",
       "      <td>1999_01_ARI_PHI</td>\n",
       "      <td>1.999091e+09</td>\n",
       "      <td>PHI</td>\n",
       "      <td>ARI</td>\n",
       "      <td>REG</td>\n",
       "      <td>1</td>\n",
       "      <td>PHI</td>\n",
       "      <td>home</td>\n",
       "      <td>...</td>\n",
       "      <td>NaN</td>\n",
       "      <td>NaN</td>\n",
       "      <td>NaN</td>\n",
       "      <td>NaN</td>\n",
       "      <td>NaN</td>\n",
       "      <td>NaN</td>\n",
       "      <td>NaN</td>\n",
       "      <td>NaN</td>\n",
       "      <td>NaN</td>\n",
       "      <td>NaN</td>\n",
       "    </tr>\n",
       "    <tr>\n",
       "      <th>2</th>\n",
       "      <td>2</td>\n",
       "      <td>82.0</td>\n",
       "      <td>1999_01_ARI_PHI</td>\n",
       "      <td>1.999091e+09</td>\n",
       "      <td>PHI</td>\n",
       "      <td>ARI</td>\n",
       "      <td>REG</td>\n",
       "      <td>1</td>\n",
       "      <td>PHI</td>\n",
       "      <td>home</td>\n",
       "      <td>...</td>\n",
       "      <td>NaN</td>\n",
       "      <td>NaN</td>\n",
       "      <td>NaN</td>\n",
       "      <td>NaN</td>\n",
       "      <td>NaN</td>\n",
       "      <td>NaN</td>\n",
       "      <td>NaN</td>\n",
       "      <td>NaN</td>\n",
       "      <td>NaN</td>\n",
       "      <td>NaN</td>\n",
       "    </tr>\n",
       "    <tr>\n",
       "      <th>3</th>\n",
       "      <td>3</td>\n",
       "      <td>103.0</td>\n",
       "      <td>1999_01_ARI_PHI</td>\n",
       "      <td>1.999091e+09</td>\n",
       "      <td>PHI</td>\n",
       "      <td>ARI</td>\n",
       "      <td>REG</td>\n",
       "      <td>1</td>\n",
       "      <td>PHI</td>\n",
       "      <td>home</td>\n",
       "      <td>...</td>\n",
       "      <td>NaN</td>\n",
       "      <td>NaN</td>\n",
       "      <td>NaN</td>\n",
       "      <td>NaN</td>\n",
       "      <td>NaN</td>\n",
       "      <td>NaN</td>\n",
       "      <td>NaN</td>\n",
       "      <td>NaN</td>\n",
       "      <td>NaN</td>\n",
       "      <td>NaN</td>\n",
       "    </tr>\n",
       "    <tr>\n",
       "      <th>4</th>\n",
       "      <td>4</td>\n",
       "      <td>126.0</td>\n",
       "      <td>1999_01_ARI_PHI</td>\n",
       "      <td>1.999091e+09</td>\n",
       "      <td>PHI</td>\n",
       "      <td>ARI</td>\n",
       "      <td>REG</td>\n",
       "      <td>1</td>\n",
       "      <td>PHI</td>\n",
       "      <td>home</td>\n",
       "      <td>...</td>\n",
       "      <td>NaN</td>\n",
       "      <td>NaN</td>\n",
       "      <td>NaN</td>\n",
       "      <td>NaN</td>\n",
       "      <td>NaN</td>\n",
       "      <td>NaN</td>\n",
       "      <td>NaN</td>\n",
       "      <td>NaN</td>\n",
       "      <td>NaN</td>\n",
       "      <td>NaN</td>\n",
       "    </tr>\n",
       "  </tbody>\n",
       "</table>\n",
       "<p>5 rows × 393 columns</p>\n",
       "</div>"
      ],
      "text/plain": [
       "   Unnamed: 0  play_id          game_id   old_game_id home_team away_team  \\\n",
       "0           0     35.0  1999_01_ARI_PHI  1.999091e+09       PHI       ARI   \n",
       "1           1     60.0  1999_01_ARI_PHI  1.999091e+09       PHI       ARI   \n",
       "2           2     82.0  1999_01_ARI_PHI  1.999091e+09       PHI       ARI   \n",
       "3           3    103.0  1999_01_ARI_PHI  1.999091e+09       PHI       ARI   \n",
       "4           4    126.0  1999_01_ARI_PHI  1.999091e+09       PHI       ARI   \n",
       "\n",
       "  season_type  week posteam posteam_type  ... offense_players defense_players  \\\n",
       "0         REG     1     PHI         home  ...             NaN             NaN   \n",
       "1         REG     1     PHI         home  ...             NaN             NaN   \n",
       "2         REG     1     PHI         home  ...             NaN             NaN   \n",
       "3         REG     1     PHI         home  ...             NaN             NaN   \n",
       "4         REG     1     PHI         home  ...             NaN             NaN   \n",
       "\n",
       "   n_offense n_defense  ngs_air_yards  time_to_throw  was_pressure route  \\\n",
       "0        NaN       NaN            NaN            NaN           NaN   NaN   \n",
       "1        NaN       NaN            NaN            NaN           NaN   NaN   \n",
       "2        NaN       NaN            NaN            NaN           NaN   NaN   \n",
       "3        NaN       NaN            NaN            NaN           NaN   NaN   \n",
       "4        NaN       NaN            NaN            NaN           NaN   NaN   \n",
       "\n",
       "   defense_man_zone_type  defense_coverage_type  \n",
       "0                    NaN                    NaN  \n",
       "1                    NaN                    NaN  \n",
       "2                    NaN                    NaN  \n",
       "3                    NaN                    NaN  \n",
       "4                    NaN                    NaN  \n",
       "\n",
       "[5 rows x 393 columns]"
      ]
     },
     "execution_count": 3,
     "metadata": {},
     "output_type": "execute_result"
    }
   ],
   "source": [
    "# View snapshot of top rows.\n",
    "df.head()"
   ]
  },
  {
   "cell_type": "code",
   "execution_count": 4,
   "id": "c827a5b9-ac87-49c8-b4c0-0d3cbc8577e2",
   "metadata": {},
   "outputs": [],
   "source": [
    "# Drop redundant index column.\n",
    "df = df.drop('Unnamed: 0', axis = 1)"
   ]
  },
  {
   "cell_type": "code",
   "execution_count": 5,
   "id": "3d1f46e5-0440-42a0-a616-e660a06fb78f",
   "metadata": {},
   "outputs": [
    {
     "data": {
      "text/plain": [
       "(1230855, 392)"
      ]
     },
     "execution_count": 5,
     "metadata": {},
     "output_type": "execute_result"
    }
   ],
   "source": [
    "# View shape.\n",
    "df.shape"
   ]
  },
  {
   "cell_type": "code",
   "execution_count": null,
   "id": "a7bc011c-0b15-4d2b-8785-335191432fa6",
   "metadata": {},
   "outputs": [],
   "source": [
    "# View info and data types.\n",
    "df.info(verbose=True)"
   ]
  },
  {
   "cell_type": "code",
   "execution_count": null,
   "id": "e176f43a-25a4-49d7-9dae-685914c39908",
   "metadata": {},
   "outputs": [],
   "source": [
    "# Create alphabetical list of columns for easy reference.\n",
    "col_list = list(df.columns)\n",
    "col_list.sort()\n",
    "col_list"
   ]
  },
  {
   "cell_type": "code",
   "execution_count": 5,
   "id": "932bb825-8cb5-4828-99ef-cd130ce9e504",
   "metadata": {},
   "outputs": [
    {
     "data": {
      "text/plain": [
       "6988"
      ]
     },
     "execution_count": 5,
     "metadata": {},
     "output_type": "execute_result"
    }
   ],
   "source": [
    "# View number of games.\n",
    "len(df['game_id'].unique())"
   ]
  },
  {
   "cell_type": "markdown",
   "id": "4f5e418d-91a1-4f66-8ac6-e999d29f295e",
   "metadata": {},
   "source": [
    "## Feature Engineering\n",
    "\n",
    "We reframe key features relative to the home team to provide a consistent baseline across games.\n",
    "\n",
    "Without this step, possession-based features such as `score_differential` would create inconsistencies for modeling."
   ]
  },
  {
   "cell_type": "code",
   "execution_count": 6,
   "id": "eee8fb35-c158-45c9-8c9c-90379d0e5175",
   "metadata": {},
   "outputs": [],
   "source": [
    "# Create home possession and home score differential. \n",
    "df['home_score_differential'] = np.where(df['home_pos'] == 1, df['score_differential'], 0-df['score_differential'])"
   ]
  },
  {
   "cell_type": "code",
   "execution_count": 7,
   "id": "de4ae3fb-b966-4c4e-b790-bf043514e858",
   "metadata": {},
   "outputs": [
    {
     "data": {
      "text/html": [
       "<div>\n",
       "<style scoped>\n",
       "    .dataframe tbody tr th:only-of-type {\n",
       "        vertical-align: middle;\n",
       "    }\n",
       "\n",
       "    .dataframe tbody tr th {\n",
       "        vertical-align: top;\n",
       "    }\n",
       "\n",
       "    .dataframe thead th {\n",
       "        text-align: right;\n",
       "    }\n",
       "</style>\n",
       "<table border=\"1\" class=\"dataframe\">\n",
       "  <thead>\n",
       "    <tr style=\"text-align: right;\">\n",
       "      <th></th>\n",
       "      <th>score_differential</th>\n",
       "      <th>home_score_differential</th>\n",
       "      <th>desc</th>\n",
       "    </tr>\n",
       "  </thead>\n",
       "  <tbody>\n",
       "    <tr>\n",
       "      <th>187082</th>\n",
       "      <td>6.0</td>\n",
       "      <td>-6.0</td>\n",
       "      <td>(2:18) 48-S.Davis left tackle to CAR 48 for 4 yards (99-W.Sapp, 55-D.Brooks).</td>\n",
       "    </tr>\n",
       "    <tr>\n",
       "      <th>187083</th>\n",
       "      <td>NaN</td>\n",
       "      <td>NaN</td>\n",
       "      <td>Timeout #3 by TB at 02:11.</td>\n",
       "    </tr>\n",
       "    <tr>\n",
       "      <th>187084</th>\n",
       "      <td>6.0</td>\n",
       "      <td>-6.0</td>\n",
       "      <td>(2:11) 48-S.Davis left end to 50 for 2 yards (20-R.Barber).</td>\n",
       "    </tr>\n",
       "    <tr>\n",
       "      <th>187085</th>\n",
       "      <td>6.0</td>\n",
       "      <td>-6.0</td>\n",
       "      <td>(2:00) 10-T.Sauerbrun punts 40 yards to TB 10, Center-56-J.Kyle. 86-K.Williams ran ob at TB 18 for 8 yards (88-K.Hankton).</td>\n",
       "    </tr>\n",
       "    <tr>\n",
       "      <th>187086</th>\n",
       "      <td>-6.0</td>\n",
       "      <td>-6.0</td>\n",
       "      <td>(1:49) 14-B.Johnson pass incomplete to 19-K.Johnson (27-D.Grant).</td>\n",
       "    </tr>\n",
       "    <tr>\n",
       "      <th>187087</th>\n",
       "      <td>-6.0</td>\n",
       "      <td>-6.0</td>\n",
       "      <td>(1:43) 14-B.Johnson pass to 86-K.Williams ran ob at CAR 39 for 43 yards (30-M.Minter).</td>\n",
       "    </tr>\n",
       "    <tr>\n",
       "      <th>187088</th>\n",
       "      <td>-6.0</td>\n",
       "      <td>-6.0</td>\n",
       "      <td>(1:35) 14-B.Johnson pass incomplete to 32-M.Pittman (23-R.Howard).</td>\n",
       "    </tr>\n",
       "    <tr>\n",
       "      <th>187089</th>\n",
       "      <td>-6.0</td>\n",
       "      <td>-6.0</td>\n",
       "      <td>(1:28) 14-B.Johnson pass incomplete to 87-K.McCardell. RECEIVER RULED OUT OF BOUNDS</td>\n",
       "    </tr>\n",
       "    <tr>\n",
       "      <th>187090</th>\n",
       "      <td>-6.0</td>\n",
       "      <td>-6.0</td>\n",
       "      <td>(1:22) 14-B.Johnson pass to 32-M.Pittman pushed ob at CAR 28 for 11 yards (54-W.Witherspoon).</td>\n",
       "    </tr>\n",
       "    <tr>\n",
       "      <th>187091</th>\n",
       "      <td>-6.0</td>\n",
       "      <td>-6.0</td>\n",
       "      <td>(1:15) 14-B.Johnson pass to 32-M.Pittman to CAR 18 for 10 yards (54-W.Witherspoon).</td>\n",
       "    </tr>\n",
       "  </tbody>\n",
       "</table>\n",
       "</div>"
      ],
      "text/plain": [
       "        score_differential  home_score_differential  \\\n",
       "187082                 6.0                     -6.0   \n",
       "187083                 NaN                      NaN   \n",
       "187084                 6.0                     -6.0   \n",
       "187085                 6.0                     -6.0   \n",
       "187086                -6.0                     -6.0   \n",
       "187087                -6.0                     -6.0   \n",
       "187088                -6.0                     -6.0   \n",
       "187089                -6.0                     -6.0   \n",
       "187090                -6.0                     -6.0   \n",
       "187091                -6.0                     -6.0   \n",
       "\n",
       "                                                                                                                              desc  \n",
       "187082                                               (2:18) 48-S.Davis left tackle to CAR 48 for 4 yards (99-W.Sapp, 55-D.Brooks).  \n",
       "187083                                                                                                  Timeout #3 by TB at 02:11.  \n",
       "187084                                                                 (2:11) 48-S.Davis left end to 50 for 2 yards (20-R.Barber).  \n",
       "187085  (2:00) 10-T.Sauerbrun punts 40 yards to TB 10, Center-56-J.Kyle. 86-K.Williams ran ob at TB 18 for 8 yards (88-K.Hankton).  \n",
       "187086                                                           (1:49) 14-B.Johnson pass incomplete to 19-K.Johnson (27-D.Grant).  \n",
       "187087                                      (1:43) 14-B.Johnson pass to 86-K.Williams ran ob at CAR 39 for 43 yards (30-M.Minter).  \n",
       "187088                                                          (1:35) 14-B.Johnson pass incomplete to 32-M.Pittman (23-R.Howard).  \n",
       "187089                                         (1:28) 14-B.Johnson pass incomplete to 87-K.McCardell. RECEIVER RULED OUT OF BOUNDS  \n",
       "187090                               (1:22) 14-B.Johnson pass to 32-M.Pittman pushed ob at CAR 28 for 11 yards (54-W.Witherspoon).  \n",
       "187091                                         (1:15) 14-B.Johnson pass to 32-M.Pittman to CAR 18 for 10 yards (54-W.Witherspoon).  "
      ]
     },
     "execution_count": 7,
     "metadata": {},
     "output_type": "execute_result"
    }
   ],
   "source": [
    "# Confirm home score differential\n",
    "df[df['game_id'] == '2003_02_CAR_TB'][['score_differential', 'home_score_differential', 'desc']].iloc[-50:-40]"
   ]
  },
  {
   "cell_type": "code",
   "execution_count": 8,
   "id": "62d5e20e-c013-487b-b3d4-9279cf912554",
   "metadata": {},
   "outputs": [],
   "source": [
    "# Create winner and home_win labels.\n",
    "df['winner'] = np.where(df['result'] > 0, df['home_team'], df['away_team'])\n",
    "df['home_win'] = (df['home_team'] == df['winner']).astype(int)"
   ]
  },
  {
   "cell_type": "markdown",
   "id": "5fa09c48-5b9e-4a61-ba9a-e860afb6d157",
   "metadata": {},
   "source": [
    "We also create a `home_win` label for supervised evaluation. \n",
    "\n",
    "While not used in model training, it allows cross-checking model predictions against actual outcomes."
   ]
  },
  {
   "cell_type": "code",
   "execution_count": 9,
   "id": "8126057b-6510-4df4-a90d-54a76ab82a3a",
   "metadata": {},
   "outputs": [],
   "source": [
    "# Standardize yardline to home perspective.\n",
    "df['yardline_100_home'] = np.where(df['home_pos'] == 1, df['yardline_100'], 100-df['yardline_100'])"
   ]
  },
  {
   "cell_type": "markdown",
   "id": "a55a3743-8b4a-404a-b843-1d5ee20d76eb",
   "metadata": {},
   "source": [
    "We standardize field position so it always represents distance to the opponent's end zone for the home team. This avoids possession-based inconsistencies."
   ]
  },
  {
   "cell_type": "code",
   "execution_count": 10,
   "id": "5510a3a9-0a34-4482-b54b-21adc3b75dbb",
   "metadata": {},
   "outputs": [],
   "source": [
    "# Create time_weight feature.\n",
    "df['time_weight'] = (1-df['game_seconds_remaining']/3600)"
   ]
  },
  {
   "cell_type": "markdown",
   "id": "8f9733a2-9170-422d-b5a3-403b4cf5ac86",
   "metadata": {},
   "source": [
    "Time_weight essentially reverses and scales the game clock. The beginning of the game has a time_weight of 0, and the end has a time_weight of 1."
   ]
  },
  {
   "cell_type": "code",
   "execution_count": 11,
   "id": "cde94325-1fe0-4b74-a797-21c016950296",
   "metadata": {},
   "outputs": [],
   "source": [
    "# Set overtime time_weight to 1.\n",
    "df['time_weight'] = np.where(df['qtr'] > 4, 1, df['time_weight'])"
   ]
  },
  {
   "cell_type": "markdown",
   "id": "00bc93d4-22f9-48bf-b335-bb9a9ef96496",
   "metadata": {},
   "source": [
    "Overtime is indicated as quarter 5 (6 if double OT). Although NFL overtime rules are not technically sudden death (in which the first team to score wins), it's reasonable to suggest that any play in overtime is just as important as the end of the 4th quarter and should therefore be weighted as such. For this reason, we set any overtime period to a fixed time_weight of 1."
   ]
  },
  {
   "cell_type": "code",
   "execution_count": 12,
   "id": "6cccc02a-4497-46b0-ab21-defbaef0b5d5",
   "metadata": {},
   "outputs": [
    {
     "name": "stdout",
     "output_type": "stream",
     "text": [
      "['2002_10_ATL_PIT' '2008_11_PHI_CIN' '2012_10_STL_SF' '2013_12_MIN_GB'\n",
      " '2014_06_CAR_CIN' '2016_07_SEA_ARI' '2016_08_WAS_CIN' '2018_01_PIT_CLE'\n",
      " '2018_02_MIN_GB' '2019_01_DET_ARI' '2020_03_CIN_PHI' '2021_10_DET_PIT'\n",
      " '2022_01_IND_HOU' '2022_13_WAS_NYG']\n",
      "Count:  14\n"
     ]
    }
   ],
   "source": [
    "# View and count ties.\n",
    "print(df[df['result'] == 0]['game_id'].unique())\n",
    "print(\"Count: \", len(df[df['result'] == 0]['game_id'].unique()))"
   ]
  },
  {
   "cell_type": "markdown",
   "id": "d644a69f-a9af-4056-8def-741b365cb63f",
   "metadata": {},
   "source": [
    "NFL tie games are incredibly rare, with only 14 occurring in the last 22 seasons. We exclude them.\n",
    "\n",
    "Fun fact: The Bengals have four of the fourteen ties, two of which are against the Eagles."
   ]
  },
  {
   "cell_type": "code",
   "execution_count": 12,
   "id": "6c68e573-62aa-4f2e-b71b-9d602635c04f",
   "metadata": {},
   "outputs": [],
   "source": [
    "# Exclude ties.\n",
    "df = df[df['result'] != 0].copy()"
   ]
  },
  {
   "cell_type": "code",
   "execution_count": 13,
   "id": "f246a11f-211d-4c4b-81b6-8fb81df02243",
   "metadata": {},
   "outputs": [],
   "source": [
    "# Remove non-play rows.\n",
    "df = df[df['play_type_nfl'] != 'COMMENT']\n",
    "df = df[df['play_type_nfl'] != 'END_QUARTER']\n",
    "df = df[df['play_type_nfl'] != 'END_GAME']\n",
    "df = df[df['play_type_nfl'] != 'TIMEOUT']\n",
    "df = df[df['play_type_nfl'] != 'PENALTY']\n",
    "df = df[df['play_type_nfl'] != 'UNSPECIFIED']"
   ]
  },
  {
   "cell_type": "markdown",
   "id": "4730c773-c5ba-4fee-8eee-0c2444283d0d",
   "metadata": {},
   "source": [
    "These rows are not valid game plays and are irrelevant to our model's training."
   ]
  },
  {
   "cell_type": "code",
   "execution_count": 14,
   "id": "a8573934-ae0e-4580-ae31-70e1dfe882ee",
   "metadata": {},
   "outputs": [],
   "source": [
    "# Create cleaned dataframe.\n",
    "df_cleaned = df.copy()\n",
    "\n",
    "# Clear original large dataframe to save memory.\n",
    "# del df"
   ]
  },
  {
   "cell_type": "code",
   "execution_count": 16,
   "id": "c3571007-32b9-4196-8595-18654d9ec522",
   "metadata": {},
   "outputs": [
    {
     "data": {
      "text/html": [
       "<div>\n",
       "<style scoped>\n",
       "    .dataframe tbody tr th:only-of-type {\n",
       "        vertical-align: middle;\n",
       "    }\n",
       "\n",
       "    .dataframe tbody tr th {\n",
       "        vertical-align: top;\n",
       "    }\n",
       "\n",
       "    .dataframe thead th {\n",
       "        text-align: right;\n",
       "    }\n",
       "</style>\n",
       "<table border=\"1\" class=\"dataframe\">\n",
       "  <thead>\n",
       "    <tr style=\"text-align: right;\">\n",
       "      <th></th>\n",
       "      <th>play_id</th>\n",
       "      <th>game_id</th>\n",
       "      <th>old_game_id</th>\n",
       "      <th>home_team</th>\n",
       "      <th>away_team</th>\n",
       "      <th>season_type</th>\n",
       "      <th>week</th>\n",
       "      <th>posteam</th>\n",
       "      <th>posteam_type</th>\n",
       "      <th>defteam</th>\n",
       "      <th>...</th>\n",
       "      <th>was_pressure</th>\n",
       "      <th>route</th>\n",
       "      <th>defense_man_zone_type</th>\n",
       "      <th>defense_coverage_type</th>\n",
       "      <th>home_pos</th>\n",
       "      <th>home_score_differential</th>\n",
       "      <th>winner</th>\n",
       "      <th>home_win</th>\n",
       "      <th>yardline_100_home</th>\n",
       "      <th>time_weight</th>\n",
       "    </tr>\n",
       "  </thead>\n",
       "  <tbody>\n",
       "    <tr>\n",
       "      <th>0</th>\n",
       "      <td>35.0</td>\n",
       "      <td>1999_01_ARI_PHI</td>\n",
       "      <td>1.999091e+09</td>\n",
       "      <td>PHI</td>\n",
       "      <td>ARI</td>\n",
       "      <td>REG</td>\n",
       "      <td>1</td>\n",
       "      <td>PHI</td>\n",
       "      <td>home</td>\n",
       "      <td>ARI</td>\n",
       "      <td>...</td>\n",
       "      <td>NaN</td>\n",
       "      <td>NaN</td>\n",
       "      <td>NaN</td>\n",
       "      <td>NaN</td>\n",
       "      <td>1</td>\n",
       "      <td>NaN</td>\n",
       "      <td>ARI</td>\n",
       "      <td>0</td>\n",
       "      <td>30.0</td>\n",
       "      <td>0.0</td>\n",
       "    </tr>\n",
       "    <tr>\n",
       "      <th>1</th>\n",
       "      <td>60.0</td>\n",
       "      <td>1999_01_ARI_PHI</td>\n",
       "      <td>1.999091e+09</td>\n",
       "      <td>PHI</td>\n",
       "      <td>ARI</td>\n",
       "      <td>REG</td>\n",
       "      <td>1</td>\n",
       "      <td>PHI</td>\n",
       "      <td>home</td>\n",
       "      <td>ARI</td>\n",
       "      <td>...</td>\n",
       "      <td>NaN</td>\n",
       "      <td>NaN</td>\n",
       "      <td>NaN</td>\n",
       "      <td>NaN</td>\n",
       "      <td>1</td>\n",
       "      <td>0.0</td>\n",
       "      <td>ARI</td>\n",
       "      <td>0</td>\n",
       "      <td>77.0</td>\n",
       "      <td>0.0</td>\n",
       "    </tr>\n",
       "    <tr>\n",
       "      <th>2</th>\n",
       "      <td>82.0</td>\n",
       "      <td>1999_01_ARI_PHI</td>\n",
       "      <td>1.999091e+09</td>\n",
       "      <td>PHI</td>\n",
       "      <td>ARI</td>\n",
       "      <td>REG</td>\n",
       "      <td>1</td>\n",
       "      <td>PHI</td>\n",
       "      <td>home</td>\n",
       "      <td>ARI</td>\n",
       "      <td>...</td>\n",
       "      <td>NaN</td>\n",
       "      <td>NaN</td>\n",
       "      <td>NaN</td>\n",
       "      <td>NaN</td>\n",
       "      <td>1</td>\n",
       "      <td>0.0</td>\n",
       "      <td>ARI</td>\n",
       "      <td>0</td>\n",
       "      <td>77.0</td>\n",
       "      <td>0.0</td>\n",
       "    </tr>\n",
       "    <tr>\n",
       "      <th>3</th>\n",
       "      <td>103.0</td>\n",
       "      <td>1999_01_ARI_PHI</td>\n",
       "      <td>1.999091e+09</td>\n",
       "      <td>PHI</td>\n",
       "      <td>ARI</td>\n",
       "      <td>REG</td>\n",
       "      <td>1</td>\n",
       "      <td>PHI</td>\n",
       "      <td>home</td>\n",
       "      <td>ARI</td>\n",
       "      <td>...</td>\n",
       "      <td>NaN</td>\n",
       "      <td>NaN</td>\n",
       "      <td>NaN</td>\n",
       "      <td>NaN</td>\n",
       "      <td>1</td>\n",
       "      <td>0.0</td>\n",
       "      <td>ARI</td>\n",
       "      <td>0</td>\n",
       "      <td>76.0</td>\n",
       "      <td>0.0</td>\n",
       "    </tr>\n",
       "    <tr>\n",
       "      <th>4</th>\n",
       "      <td>126.0</td>\n",
       "      <td>1999_01_ARI_PHI</td>\n",
       "      <td>1.999091e+09</td>\n",
       "      <td>PHI</td>\n",
       "      <td>ARI</td>\n",
       "      <td>REG</td>\n",
       "      <td>1</td>\n",
       "      <td>PHI</td>\n",
       "      <td>home</td>\n",
       "      <td>ARI</td>\n",
       "      <td>...</td>\n",
       "      <td>NaN</td>\n",
       "      <td>NaN</td>\n",
       "      <td>NaN</td>\n",
       "      <td>NaN</td>\n",
       "      <td>1</td>\n",
       "      <td>0.0</td>\n",
       "      <td>ARI</td>\n",
       "      <td>0</td>\n",
       "      <td>81.0</td>\n",
       "      <td>0.0</td>\n",
       "    </tr>\n",
       "  </tbody>\n",
       "</table>\n",
       "<p>5 rows × 398 columns</p>\n",
       "</div>"
      ],
      "text/plain": [
       "   play_id          game_id   old_game_id home_team away_team season_type  \\\n",
       "0     35.0  1999_01_ARI_PHI  1.999091e+09       PHI       ARI         REG   \n",
       "1     60.0  1999_01_ARI_PHI  1.999091e+09       PHI       ARI         REG   \n",
       "2     82.0  1999_01_ARI_PHI  1.999091e+09       PHI       ARI         REG   \n",
       "3    103.0  1999_01_ARI_PHI  1.999091e+09       PHI       ARI         REG   \n",
       "4    126.0  1999_01_ARI_PHI  1.999091e+09       PHI       ARI         REG   \n",
       "\n",
       "   week posteam posteam_type defteam  ... was_pressure  route  \\\n",
       "0     1     PHI         home     ARI  ...          NaN    NaN   \n",
       "1     1     PHI         home     ARI  ...          NaN    NaN   \n",
       "2     1     PHI         home     ARI  ...          NaN    NaN   \n",
       "3     1     PHI         home     ARI  ...          NaN    NaN   \n",
       "4     1     PHI         home     ARI  ...          NaN    NaN   \n",
       "\n",
       "  defense_man_zone_type  defense_coverage_type  home_pos  \\\n",
       "0                   NaN                    NaN         1   \n",
       "1                   NaN                    NaN         1   \n",
       "2                   NaN                    NaN         1   \n",
       "3                   NaN                    NaN         1   \n",
       "4                   NaN                    NaN         1   \n",
       "\n",
       "   home_score_differential winner  home_win  yardline_100_home  time_weight  \n",
       "0                      NaN    ARI         0               30.0          0.0  \n",
       "1                      0.0    ARI         0               77.0          0.0  \n",
       "2                      0.0    ARI         0               77.0          0.0  \n",
       "3                      0.0    ARI         0               76.0          0.0  \n",
       "4                      0.0    ARI         0               81.0          0.0  \n",
       "\n",
       "[5 rows x 398 columns]"
      ]
     },
     "execution_count": 16,
     "metadata": {},
     "output_type": "execute_result"
    }
   ],
   "source": [
    "# Glimpse of cleaned dataframe.\n",
    "df_cleaned.head()"
   ]
  },
  {
   "cell_type": "code",
   "execution_count": 15,
   "id": "b2c104f7-3cdb-4bc5-bec7-37e4b2b8a928",
   "metadata": {},
   "outputs": [],
   "source": [
    "# Export cleaned dataframe to csv.\n",
    "df_cleaned.to_csv('df_cleaned.csv', index = True)"
   ]
  }
 ],
 "metadata": {
  "codeCellConfig": {
   "lineWrap": "on"
  },
  "kernelspec": {
   "display_name": "Python 3 (ipykernel)",
   "language": "python",
   "name": "python3"
  },
  "language_info": {
   "codemirror_mode": {
    "name": "ipython",
    "version": 3
   },
   "file_extension": ".py",
   "mimetype": "text/x-python",
   "name": "python",
   "nbconvert_exporter": "python",
   "pygments_lexer": "ipython3",
   "version": "3.12.5"
  },
  "latex_metadata": {
   "date": ""
  },
  "widgets": {
   "application/vnd.jupyter.widget-state+json": {
    "state": {},
    "version_major": 2,
    "version_minor": 0
   }
  }
 },
 "nbformat": 4,
 "nbformat_minor": 5
}
